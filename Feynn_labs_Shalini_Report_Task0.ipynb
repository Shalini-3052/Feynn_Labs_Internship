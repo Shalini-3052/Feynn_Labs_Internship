{
  "nbformat": 4,
  "nbformat_minor": 0,
  "metadata": {
    "colab": {
      "provenance": [],
      "authorship_tag": "ABX9TyNDC/Vu/ojVVfQdpeX3bP9V",
      "include_colab_link": true
    },
    "kernelspec": {
      "name": "python3",
      "display_name": "Python 3"
    },
    "language_info": {
      "name": "python"
    }
  },
  "cells": [
    {
      "cell_type": "markdown",
      "metadata": {
        "id": "view-in-github",
        "colab_type": "text"
      },
      "source": [
        "<a href=\"https://colab.research.google.com/github/Shalini-3052/Feynn_Labs_Internship/blob/main/Feynn_labs_Shalini_Report_Task0.ipynb\" target=\"_parent\"><img src=\"https://colab.research.google.com/assets/colab-badge.svg\" alt=\"Open In Colab\"/></a>"
      ]
    },
    {
      "cell_type": "code",
      "execution_count": null,
      "metadata": {
        "colab": {
          "base_uri": "https://localhost:8080/"
        },
        "id": "Ip33oqB4Q2_G",
        "outputId": "e5c1e5c5-f586-4b42-fc89-678a401da32c"
      },
      "outputs": [
        {
          "output_type": "stream",
          "name": "stdout",
          "text": [
            "Enter the car fault description: The steering wheel is shaking\n",
            "Predicted car fault: ['Engine']\n"
          ]
        }
      ],
      "source": [
        "import pandas as pd\n",
        "from sklearn.feature_extraction.text import TfidfVectorizer\n",
        "from sklearn.linear_model import LogisticRegression\n",
        "\n",
        "# Load the car_fault_dataset.csv\n",
        "df = pd.DataFrame({\n",
        "    'Description': [\n",
        "        'Engine making strange noise',\n",
        "        'Brakes not working properly',\n",
        "        'AC not cooling',\n",
        "        'Dashboard lights not functioning'\n",
        "    ],\n",
        "    'Fault': [\n",
        "        'Engine',\n",
        "        'Brakes',\n",
        "        'AC',\n",
        "        'Electrical'\n",
        "    ]\n",
        "})\n",
        "\n",
        "# Preprocess the data\n",
        "X = df['Description']  # Text descriptions\n",
        "y = df['Fault']  # Fault labels\n",
        "\n",
        "# Initialize the TF-IDF vectorizer\n",
        "vectorizer = TfidfVectorizer()\n",
        "\n",
        "# Transform text data into numerical features\n",
        "X = vectorizer.fit_transform(X)\n",
        "\n",
        "# Train a classification model\n",
        "model = LogisticRegression()\n",
        "model.fit(X, y)\n",
        "\n",
        "# Accept user input for car fault description\n",
        "user_description = input(\"Enter the car fault description: \")\n",
        "\n",
        "# Preprocess the user input\n",
        "user_input = vectorizer.transform([user_description])\n",
        "\n",
        "# Make a prediction using the trained model\n",
        "predicted_fault = model.predict(user_input)\n",
        "\n",
        "# Output the predicted fault\n",
        "print(\"Predicted car fault:\", predicted_fault)\n",
        "\n"
      ]
    }
  ]
}